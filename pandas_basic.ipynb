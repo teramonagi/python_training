{
 "cells": [
  {
   "cell_type": "code",
   "execution_count": 21,
   "metadata": {
    "collapsed": true
   },
   "outputs": [],
   "source": [
    "import string\n",
    "import pandas as pd\n",
    "from io import StringIO"
   ]
  },
  {
   "cell_type": "code",
   "execution_count": 25,
   "metadata": {
    "collapsed": false
   },
   "outputs": [
    {
     "data": {
      "text/html": [
       "<div>\n",
       "<table border=\"1\" class=\"dataframe\">\n",
       "  <thead>\n",
       "    <tr style=\"text-align: right;\">\n",
       "      <th></th>\n",
       "      <th>x</th>\n",
       "      <th>y</th>\n",
       "    </tr>\n",
       "  </thead>\n",
       "  <tbody>\n",
       "    <tr>\n",
       "      <th>101</th>\n",
       "      <td>1</td>\n",
       "      <td>a</td>\n",
       "    </tr>\n",
       "    <tr>\n",
       "      <th>102</th>\n",
       "      <td>2</td>\n",
       "      <td>b</td>\n",
       "    </tr>\n",
       "    <tr>\n",
       "      <th>103</th>\n",
       "      <td>3</td>\n",
       "      <td>c</td>\n",
       "    </tr>\n",
       "    <tr>\n",
       "      <th>104</th>\n",
       "      <td>4</td>\n",
       "      <td>d</td>\n",
       "    </tr>\n",
       "    <tr>\n",
       "      <th>105</th>\n",
       "      <td>5</td>\n",
       "      <td>e</td>\n",
       "    </tr>\n",
       "  </tbody>\n",
       "</table>\n",
       "</div>"
      ],
      "text/plain": [
       "     x  y\n",
       "101  1  a\n",
       "102  2  b\n",
       "103  3  c\n",
       "104  4  d\n",
       "105  5  e"
      ]
     },
     "execution_count": 25,
     "metadata": {},
     "output_type": "execute_result"
    }
   ],
   "source": [
    "df = pd.DataFrame({'x':[1,2,3,4,5], 'y':list(string.ascii_lowercase)[0:5]}, index=range(101, 106))\n",
    "df"
   ]
  },
  {
   "cell_type": "code",
   "execution_count": 26,
   "metadata": {
    "collapsed": false
   },
   "outputs": [
    {
     "name": "stdout",
     "output_type": "stream",
     "text": [
      "<class 'pandas.core.frame.DataFrame'>\n",
      "Int64Index: 5 entries, 101 to 105\n",
      "Data columns (total 2 columns):\n",
      "x    5 non-null int64\n",
      "y    5 non-null object\n",
      "dtypes: int64(1), object(1)\n",
      "memory usage: 120.0+ bytes\n",
      "None\n",
      "size:  (5, 2)\n",
      "len:  5\n",
      "col size: 2\n",
      "10\n"
     ]
    }
   ],
   "source": [
    "# Check its structure\n",
    "print(df.info())\n",
    "# Entire shape of DataFrame\n",
    "print(\"size: \", df.shape)\n",
    "# Row size\n",
    "print(\"len: \", len(df))\n",
    "# Column size\n",
    "print(\"col size:\", len(df.columns))\n",
    "# The size of element\n",
    "print(df.size)"
   ]
  },
  {
   "cell_type": "code",
   "execution_count": 27,
   "metadata": {
    "collapsed": false,
    "scrolled": true
   },
   "outputs": [
    {
     "name": "stdout",
     "output_type": "stream",
     "text": [
      "101    1\n",
      "102    2\n",
      "103    3\n",
      "104    4\n",
      "105    5\n",
      "Name: x, dtype: int64\n",
      "101    1\n",
      "102    2\n",
      "103    3\n",
      "104    4\n",
      "105    5\n",
      "Name: x, dtype: int64\n",
      "101    1\n",
      "102    2\n",
      "103    3\n",
      "104    4\n",
      "105    5\n",
      "Name: x, dtype: int64\n",
      "101    1\n",
      "102    2\n",
      "103    3\n",
      "104    4\n",
      "105    5\n",
      "Name: x, dtype: int64\n",
      "101    1\n",
      "102    2\n",
      "103    3\n",
      "104    4\n",
      "105    5\n",
      "Name: x, dtype: int64\n",
      "     y\n",
      "101  a\n",
      "102  b\n",
      "103  c\n",
      "104  d\n",
      "105  e\n"
     ]
    }
   ],
   "source": [
    "#Extract column([], loc: name base, iloc/ix: number base)\n",
    "print(df.x)\n",
    "print(df[\"x\"])\n",
    "print(df.loc[:,'x'])\n",
    "print(df.iloc[:,0])\n",
    "print(df.ix[:,0])\n",
    "#Extract match column!\n",
    "print(df.iloc[:, df.columns.map(lambda x: x.startswith('y'))])"
   ]
  },
  {
   "cell_type": "code",
   "execution_count": 28,
   "metadata": {
    "collapsed": false
   },
   "outputs": [
    {
     "name": "stdout",
     "output_type": "stream",
     "text": [
      "<class 'pandas.core.series.Series'>\n",
      "<class 'pandas.core.frame.DataFrame'>\n"
     ]
    }
   ],
   "source": [
    "# []series or [[]]data.frame\n",
    "print(type(df['x']))\n",
    "print(type(df[['x']]))"
   ]
  },
  {
   "cell_type": "code",
   "execution_count": 29,
   "metadata": {
    "collapsed": false
   },
   "outputs": [
    {
     "name": "stdout",
     "output_type": "stream",
     "text": [
      "x    3\n",
      "y    c\n",
      "Name: 103, dtype: object\n",
      "x    4\n",
      "y    d\n",
      "Name: 104, dtype: object\n",
      "x    3\n",
      "y    c\n",
      "Name: 103, dtype: object\n"
     ]
    }
   ],
   "source": [
    "#Extract row(!!loc/ix index base, iloc: row number base!!!)\n",
    "print(df.loc[103,:])\n",
    "print(df.iloc[3,:])\n",
    "print(df.ix[103,:])"
   ]
  },
  {
   "cell_type": "code",
   "execution_count": 30,
   "metadata": {
    "collapsed": false
   },
   "outputs": [
    {
     "data": {
      "text/html": [
       "<div>\n",
       "<table border=\"1\" class=\"dataframe\">\n",
       "  <thead>\n",
       "    <tr style=\"text-align: right;\">\n",
       "      <th></th>\n",
       "      <th>x</th>\n",
       "      <th>y</th>\n",
       "    </tr>\n",
       "  </thead>\n",
       "  <tbody>\n",
       "    <tr>\n",
       "      <th>103</th>\n",
       "      <td>3</td>\n",
       "      <td>c</td>\n",
       "    </tr>\n",
       "  </tbody>\n",
       "</table>\n",
       "</div>"
      ],
      "text/plain": [
       "     x  y\n",
       "103  3  c"
      ]
     },
     "execution_count": 30,
     "metadata": {},
     "output_type": "execute_result"
    }
   ],
   "source": [
    "#Extract row(by column condition)\n",
    "df[df.x==3]"
   ]
  },
  {
   "cell_type": "code",
   "execution_count": 31,
   "metadata": {
    "collapsed": false
   },
   "outputs": [
    {
     "data": {
      "text/plain": [
       "array([[5, 'e']], dtype=object)"
      ]
     },
     "execution_count": 31,
     "metadata": {},
     "output_type": "execute_result"
    }
   ],
   "source": [
    "#To Numpy Array\n",
    "df[df.x==5].as_matrix()"
   ]
  },
  {
   "cell_type": "code",
   "execution_count": 32,
   "metadata": {
    "collapsed": false
   },
   "outputs": [
    {
     "data": {
      "text/html": [
       "<div>\n",
       "<table border=\"1\" class=\"dataframe\">\n",
       "  <thead>\n",
       "    <tr style=\"text-align: right;\">\n",
       "      <th></th>\n",
       "      <th>y</th>\n",
       "    </tr>\n",
       "  </thead>\n",
       "  <tbody>\n",
       "    <tr>\n",
       "      <th>101</th>\n",
       "      <td>a</td>\n",
       "    </tr>\n",
       "    <tr>\n",
       "      <th>102</th>\n",
       "      <td>b</td>\n",
       "    </tr>\n",
       "    <tr>\n",
       "      <th>103</th>\n",
       "      <td>c</td>\n",
       "    </tr>\n",
       "    <tr>\n",
       "      <th>104</th>\n",
       "      <td>d</td>\n",
       "    </tr>\n",
       "    <tr>\n",
       "      <th>105</th>\n",
       "      <td>e</td>\n",
       "    </tr>\n",
       "  </tbody>\n",
       "</table>\n",
       "</div>"
      ],
      "text/plain": [
       "     y\n",
       "101  a\n",
       "102  b\n",
       "103  c\n",
       "104  d\n",
       "105  e"
      ]
     },
     "execution_count": 32,
     "metadata": {},
     "output_type": "execute_result"
    }
   ],
   "source": [
    "#Extract specific column\n",
    "df.ix[:, 1:]"
   ]
  },
  {
   "cell_type": "code",
   "execution_count": 33,
   "metadata": {
    "collapsed": false
   },
   "outputs": [
    {
     "name": "stdout",
     "output_type": "stream",
     "text": [
      "Index(['x', 'y'], dtype='object')\n",
      "     hoge huga\n",
      "101     1    a\n",
      "102     2    b\n",
      "103     3    c\n",
      "104     4    d\n",
      "105     5    e\n",
      "['hoge' 'huga']\n"
     ]
    }
   ],
   "source": [
    "#Get and change column name\n",
    "names = df.columns\n",
    "print(names)\n",
    "df.columns = [\"hoge\", \"huga\"]\n",
    "print(df)\n",
    "print(df.columns.values) #as simple array\n",
    "df.columns = names"
   ]
  },
  {
   "cell_type": "code",
   "execution_count": 34,
   "metadata": {
    "collapsed": false
   },
   "outputs": [
    {
     "name": "stdout",
     "output_type": "stream",
     "text": [
      "Int64Index([101, 102, 103, 104, 105], dtype='int64')\n",
      "     x  y\n",
      "333  1  a\n",
      "334  2  b\n",
      "335  3  c\n",
      "336  4  d\n",
      "337  5  e\n"
     ]
    }
   ],
   "source": [
    "#Get and change row name(index)\n",
    "index = df.index\n",
    "print(index)\n",
    "df.index = range(333, 338)\n",
    "print(df)\n",
    "df.index = index"
   ]
  },
  {
   "cell_type": "code",
   "execution_count": 35,
   "metadata": {
    "collapsed": false
   },
   "outputs": [
    {
     "name": "stdout",
     "output_type": "stream",
     "text": [
      "x    3\n",
      "y    c\n",
      "dtype: object\n",
      "101    1\n",
      "102    2\n",
      "103    3\n",
      "104    4\n",
      "105    5\n",
      "dtype: int64\n"
     ]
    }
   ],
   "source": [
    "#apply lambda function to each column|row(axis 0:column, 1:row)\n",
    "print(df.apply(lambda x: x.loc[103], axis=0))\n",
    "print(df.apply(lambda x: x[0], axis=1))"
   ]
  },
  {
   "cell_type": "code",
   "execution_count": 36,
   "metadata": {
    "collapsed": false
   },
   "outputs": [
    {
     "name": "stdout",
     "output_type": "stream",
     "text": [
      "     x  y  hoge\n",
      "101  1  a  hoge\n",
      "102  2  b  hoge\n",
      "103  3  c  hoge\n",
      "104  4  d  hoge\n",
      "105  5  e  hoge\n",
      "     first  x  y  hoge\n",
      "101     -1  1  a  hoge\n",
      "102     -1  2  b  hoge\n",
      "103     -1  3  c  hoge\n",
      "104     -1  4  d  hoge\n",
      "105     -1  5  e  hoge\n"
     ]
    }
   ],
   "source": [
    "#insert column last position and any position(insert function)\n",
    "df['hoge'] = 'hoge'\n",
    "print(df)\n",
    "df.insert(0, 'first', -1)\n",
    "print(df)"
   ]
  },
  {
   "cell_type": "markdown",
   "metadata": {},
   "source": [
    "## Example for groupby"
   ]
  },
  {
   "cell_type": "code",
   "execution_count": 37,
   "metadata": {
    "collapsed": false
   },
   "outputs": [],
   "source": [
    "#Example for Groupby\n",
    "df = pd.DataFrame({'group':['A', 'A', 'B', 'A', 'B'], 'value':[1, 2, 3, 4, 5]})"
   ]
  },
  {
   "cell_type": "code",
   "execution_count": 38,
   "metadata": {
    "collapsed": false
   },
   "outputs": [
    {
     "data": {
      "text/html": [
       "<div>\n",
       "<table border=\"1\" class=\"dataframe\">\n",
       "  <thead>\n",
       "    <tr style=\"text-align: right;\">\n",
       "      <th></th>\n",
       "      <th>size</th>\n",
       "      <th>sum</th>\n",
       "    </tr>\n",
       "    <tr>\n",
       "      <th>group</th>\n",
       "      <th></th>\n",
       "      <th></th>\n",
       "    </tr>\n",
       "  </thead>\n",
       "  <tbody>\n",
       "    <tr>\n",
       "      <th>A</th>\n",
       "      <td>3</td>\n",
       "      <td>7</td>\n",
       "    </tr>\n",
       "    <tr>\n",
       "      <th>B</th>\n",
       "      <td>2</td>\n",
       "      <td>8</td>\n",
       "    </tr>\n",
       "  </tbody>\n",
       "</table>\n",
       "</div>"
      ],
      "text/plain": [
       "       size  sum\n",
       "group           \n",
       "A         3    7\n",
       "B         2    8"
      ]
     },
     "execution_count": 38,
     "metadata": {},
     "output_type": "execute_result"
    }
   ],
   "source": [
    "# dplyr summarize like\n",
    "df.groupby('group').apply(lambda x: pd.Series({'size':len(x), 'sum': x['value'].sum()}))"
   ]
  },
  {
   "cell_type": "code",
   "execution_count": 39,
   "metadata": {
    "collapsed": false
   },
   "outputs": [
    {
     "data": {
      "text/plain": [
       "A    3\n",
       "B    2\n",
       "Name: group, dtype: int64"
      ]
     },
     "execution_count": 39,
     "metadata": {},
     "output_type": "execute_result"
    }
   ],
   "source": [
    "df[\"group\"].value_counts()"
   ]
  },
  {
   "cell_type": "code",
   "execution_count": 40,
   "metadata": {
    "collapsed": false
   },
   "outputs": [
    {
     "name": "stdout",
     "output_type": "stream",
     "text": [
      "0    A\n",
      "1    A\n",
      "2    B\n",
      "3    A\n",
      "4    B\n",
      "Name: group, dtype: object\n"
     ]
    }
   ],
   "source": [
    "print(df[\"group\"])"
   ]
  },
  {
   "cell_type": "code",
   "execution_count": 41,
   "metadata": {
    "collapsed": false
   },
   "outputs": [
    {
     "name": "stdout",
     "output_type": "stream",
     "text": [
      "  group\n",
      "0     A\n",
      "1     A\n",
      "2     B\n",
      "3     A\n",
      "4     B\n"
     ]
    }
   ],
   "source": [
    "print(df[[\"group\"]])"
   ]
  },
  {
   "cell_type": "code",
   "execution_count": 42,
   "metadata": {
    "collapsed": false
   },
   "outputs": [
    {
     "name": "stdout",
     "output_type": "stream",
     "text": [
      "True\n"
     ]
    }
   ],
   "source": [
    "# Compare all elements\n",
    "df2 = pd.DataFrame({'group':['A', 'A', 'B', 'A', 'B'], 'value':[1, 2, 3, 4, 5]})\n",
    "print((df.values == df2.values).all())"
   ]
  },
  {
   "cell_type": "code",
   "execution_count": 43,
   "metadata": {
    "collapsed": false
   },
   "outputs": [
    {
     "name": "stdout",
     "output_type": "stream",
     "text": [
      "   value  hoge_B\n",
      "0      1       0\n",
      "1      2       0\n",
      "2      3       1\n",
      "3      4       0\n",
      "4      5       1\n"
     ]
    }
   ],
   "source": [
    "dum = pd.get_dummies(df['group'], prefix='hoge')\n",
    "df = pd.concat((df, dum.ix[:, 1:]), axis=1)\n",
    "df = df.drop('group', axis=1)\n",
    "print(df)"
   ]
  },
  {
   "cell_type": "code",
   "execution_count": 44,
   "metadata": {
    "collapsed": false
   },
   "outputs": [
    {
     "data": {
      "text/html": [
       "<div>\n",
       "<table border=\"1\" class=\"dataframe\">\n",
       "  <thead>\n",
       "    <tr style=\"text-align: right;\">\n",
       "      <th></th>\n",
       "      <th>group</th>\n",
       "    </tr>\n",
       "  </thead>\n",
       "  <tbody>\n",
       "    <tr>\n",
       "      <th>0</th>\n",
       "      <td>A</td>\n",
       "    </tr>\n",
       "    <tr>\n",
       "      <th>1</th>\n",
       "      <td>A</td>\n",
       "    </tr>\n",
       "    <tr>\n",
       "      <th>2</th>\n",
       "      <td>B</td>\n",
       "    </tr>\n",
       "    <tr>\n",
       "      <th>3</th>\n",
       "      <td>A</td>\n",
       "    </tr>\n",
       "    <tr>\n",
       "      <th>4</th>\n",
       "      <td>B</td>\n",
       "    </tr>\n",
       "  </tbody>\n",
       "</table>\n",
       "</div>"
      ],
      "text/plain": [
       "  group\n",
       "0     A\n",
       "1     A\n",
       "2     B\n",
       "3     A\n",
       "4     B"
      ]
     },
     "execution_count": 44,
     "metadata": {},
     "output_type": "execute_result"
    }
   ],
   "source": [
    "df = pd.DataFrame({'group':['A', 'A', 'B', 'A', 'B'], 'value':[1, 2, 3, 4, 5], 'hoge': [2, 2, 2, 2, 2]})\n",
    "##Using DataFrame.drop\n",
    "df.drop(df.columns[[1, 2]], axis=1)"
   ]
  },
  {
   "cell_type": "code",
   "execution_count": 45,
   "metadata": {
    "collapsed": false
   },
   "outputs": [
    {
     "data": {
      "text/html": [
       "<div>\n",
       "<table border=\"1\" class=\"dataframe\">\n",
       "  <thead>\n",
       "    <tr style=\"text-align: right;\">\n",
       "      <th></th>\n",
       "      <th>value</th>\n",
       "    </tr>\n",
       "  </thead>\n",
       "  <tbody>\n",
       "    <tr>\n",
       "      <th>0</th>\n",
       "      <td>1</td>\n",
       "    </tr>\n",
       "    <tr>\n",
       "      <th>1</th>\n",
       "      <td>2</td>\n",
       "    </tr>\n",
       "    <tr>\n",
       "      <th>2</th>\n",
       "      <td>3</td>\n",
       "    </tr>\n",
       "    <tr>\n",
       "      <th>3</th>\n",
       "      <td>4</td>\n",
       "    </tr>\n",
       "    <tr>\n",
       "      <th>4</th>\n",
       "      <td>5</td>\n",
       "    </tr>\n",
       "  </tbody>\n",
       "</table>\n",
       "</div>"
      ],
      "text/plain": [
       "   value\n",
       "0      1\n",
       "1      2\n",
       "2      3\n",
       "3      4\n",
       "4      5"
      ]
     },
     "execution_count": 45,
     "metadata": {},
     "output_type": "execute_result"
    }
   ],
   "source": [
    "# drop by Name\n",
    "df.drop(['hoge', 'group'], axis=1)"
   ]
  },
  {
   "cell_type": "code",
   "execution_count": 46,
   "metadata": {
    "collapsed": false
   },
   "outputs": [
    {
     "data": {
      "text/html": [
       "<div>\n",
       "<table border=\"1\" class=\"dataframe\">\n",
       "  <thead>\n",
       "    <tr style=\"text-align: right;\">\n",
       "      <th></th>\n",
       "      <th>group</th>\n",
       "      <th>hoge</th>\n",
       "    </tr>\n",
       "  </thead>\n",
       "  <tbody>\n",
       "    <tr>\n",
       "      <th>0</th>\n",
       "      <td>A</td>\n",
       "      <td>2</td>\n",
       "    </tr>\n",
       "    <tr>\n",
       "      <th>1</th>\n",
       "      <td>A</td>\n",
       "      <td>2</td>\n",
       "    </tr>\n",
       "    <tr>\n",
       "      <th>2</th>\n",
       "      <td>B</td>\n",
       "      <td>2</td>\n",
       "    </tr>\n",
       "    <tr>\n",
       "      <th>3</th>\n",
       "      <td>A</td>\n",
       "      <td>2</td>\n",
       "    </tr>\n",
       "    <tr>\n",
       "      <th>4</th>\n",
       "      <td>B</td>\n",
       "      <td>2</td>\n",
       "    </tr>\n",
       "  </tbody>\n",
       "</table>\n",
       "</div>"
      ],
      "text/plain": [
       "  group  hoge\n",
       "0     A     2\n",
       "1     A     2\n",
       "2     B     2\n",
       "3     A     2\n",
       "4     B     2"
      ]
     },
     "execution_count": 46,
     "metadata": {},
     "output_type": "execute_result"
    }
   ],
   "source": [
    "## Select the ones you want\n",
    "df[['group', 'hoge']]"
   ]
  },
  {
   "cell_type": "markdown",
   "metadata": {
    "collapsed": true
   },
   "source": [
    "# DateTime in Column"
   ]
  },
  {
   "cell_type": "code",
   "execution_count": 2,
   "metadata": {
    "collapsed": false
   },
   "outputs": [
    {
     "data": {
      "text/plain": [
       "Timedelta('1 days 00:00:00')"
      ]
     },
     "execution_count": 2,
     "metadata": {},
     "output_type": "execute_result"
    }
   ],
   "source": [
    "pd.Timedelta('1 days')"
   ]
  },
  {
   "cell_type": "code",
   "execution_count": 3,
   "metadata": {
    "collapsed": false
   },
   "outputs": [
    {
     "data": {
      "text/plain": [
       "Timedelta('1 days 02:00:00')"
      ]
     },
     "execution_count": 3,
     "metadata": {},
     "output_type": "execute_result"
    }
   ],
   "source": [
    "pd.Timedelta('1 days 2 hours')"
   ]
  },
  {
   "cell_type": "code",
   "execution_count": 11,
   "metadata": {
    "collapsed": false
   },
   "outputs": [
    {
     "data": {
      "text/plain": [
       "Timedelta('1 days 00:00:00')"
      ]
     },
     "execution_count": 11,
     "metadata": {},
     "output_type": "execute_result"
    }
   ],
   "source": [
    "pd.Timedelta(1, unit='d') #day, days does not work..."
   ]
  },
  {
   "cell_type": "code",
   "execution_count": 14,
   "metadata": {
    "collapsed": false
   },
   "outputs": [
    {
     "data": {
      "text/plain": [
       "DatetimeIndex(['2012-01-01', '2012-01-02', '2012-01-03'], dtype='datetime64[ns]', freq='D')"
      ]
     },
     "execution_count": 14,
     "metadata": {},
     "output_type": "execute_result"
    }
   ],
   "source": [
    "dt = pd.date_range('2012-1-1', periods=3, freq='D')\n",
    "dt"
   ]
  },
  {
   "cell_type": "code",
   "execution_count": 15,
   "metadata": {
    "collapsed": false
   },
   "outputs": [
    {
     "data": {
      "text/plain": [
       "TimedeltaIndex(['0 days', '1 days', '2 days'], dtype='timedelta64[ns]', freq=None)"
      ]
     },
     "execution_count": 15,
     "metadata": {},
     "output_type": "execute_result"
    }
   ],
   "source": [
    "dt - dt[0]"
   ]
  },
  {
   "cell_type": "code",
   "execution_count": 17,
   "metadata": {
    "collapsed": false
   },
   "outputs": [
    {
     "data": {
      "text/plain": [
       "[Timedelta('0 days 00:00:00'),\n",
       " Timedelta('1 days 00:00:00'),\n",
       " Timedelta('2 days 00:00:00')]"
      ]
     },
     "execution_count": 17,
     "metadata": {},
     "output_type": "execute_result"
    }
   ],
   "source": [
    "[ pd.Timedelta(days=i) for i in range(3) ]"
   ]
  },
  {
   "cell_type": "code",
   "execution_count": 19,
   "metadata": {
    "collapsed": false
   },
   "outputs": [
    {
     "data": {
      "text/plain": [
       "TimedeltaIndex(['1 days 00:00:00', '1 days 00:10:00', '1 days 00:20:00',\n",
       "                '1 days 00:30:00', '1 days 00:40:00', '1 days 00:50:00',\n",
       "                '1 days 01:00:00', '1 days 01:10:00', '1 days 01:20:00',\n",
       "                '1 days 01:30:00',\n",
       "                ...\n",
       "                '1 days 22:30:00', '1 days 22:40:00', '1 days 22:50:00',\n",
       "                '1 days 23:00:00', '1 days 23:10:00', '1 days 23:20:00',\n",
       "                '1 days 23:30:00', '1 days 23:40:00', '1 days 23:50:00',\n",
       "                '2 days 00:00:00'],\n",
       "               dtype='timedelta64[ns]', length=145, freq='10T')"
      ]
     },
     "execution_count": 19,
     "metadata": {},
     "output_type": "execute_result"
    }
   ],
   "source": [
    "pd.timedelta_range(start='1 days', end='2 days', freq='１０T')"
   ]
  },
  {
   "cell_type": "code",
   "execution_count": 30,
   "metadata": {
    "collapsed": false
   },
   "outputs": [
    {
     "name": "stdout",
     "output_type": "stream",
     "text": [
      "[Timestamp('2012-05-18 00:00:00'), Timestamp('2012-06-29 00:00:00')]\n"
     ]
    }
   ],
   "source": [
    "df = pd.read_csv(StringIO(\"\"\"\n",
    "ds,y\n",
    "2012-05-18,38.23\n",
    "2012-05-21,34.03\n",
    "2012-05-22,31.0\n",
    "2012-05-23,32.0\n",
    "2012-05-24,33.03\n",
    "2012-05-25,31.91\n",
    "2012-05-29,28.84\n",
    "2012-05-30,28.19\n",
    "2012-05-31,29.6\n",
    "2012-06-01,27.72\n",
    "2012-06-04,26.9\n",
    "2012-06-05,25.87\n",
    "2012-06-06,26.81\n",
    "2012-06-07,26.31\n",
    "2012-06-08,27.1\n",
    "2012-06-11,27.01\n",
    "2012-06-12,27.4\n",
    "2012-06-13,27.27\n",
    "2012-06-14,28.29\n",
    "2012-06-15,30.01\n",
    "2012-06-18,31.41\n",
    "2012-06-19,31.91\n",
    "2012-06-20,31.6\n",
    "2012-06-21,31.84\n",
    "2012-06-22,33.05\n",
    "2012-06-25,32.06\n",
    "2012-06-26,33.1\n",
    "2012-06-27,32.23\n",
    "2012-06-28,31.36\n",
    "2012-06-29,31.1\n",
    "\"\"\"), parse_dates=['ds'])\n",
    "ts = df['ds'].min()\n",
    "te = df['ds'].max()\n",
    "print([ts, te])"
   ]
  },
  {
   "cell_type": "code",
   "execution_count": null,
   "metadata": {
    "collapsed": true
   },
   "outputs": [],
   "source": []
  }
 ],
 "metadata": {
  "kernelspec": {
   "display_name": "Python 3",
   "language": "python",
   "name": "python3"
  },
  "language_info": {
   "codemirror_mode": {
    "name": "ipython",
    "version": 3
   },
   "file_extension": ".py",
   "mimetype": "text/x-python",
   "name": "python",
   "nbconvert_exporter": "python",
   "pygments_lexer": "ipython3",
   "version": "3.5.1"
  }
 },
 "nbformat": 4,
 "nbformat_minor": 0
}
