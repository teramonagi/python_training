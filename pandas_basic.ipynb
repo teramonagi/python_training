{
 "cells": [
  {
   "cell_type": "code",
   "execution_count": 1,
   "metadata": {
    "collapsed": true
   },
   "outputs": [],
   "source": [
    "import string\n",
    "import pandas as pd"
   ]
  },
  {
   "cell_type": "code",
   "execution_count": 2,
   "metadata": {
    "collapsed": false
   },
   "outputs": [
    {
     "data": {
      "text/html": [
       "<div>\n",
       "<table border=\"1\" class=\"dataframe\">\n",
       "  <thead>\n",
       "    <tr style=\"text-align: right;\">\n",
       "      <th></th>\n",
       "      <th>x</th>\n",
       "      <th>y</th>\n",
       "    </tr>\n",
       "  </thead>\n",
       "  <tbody>\n",
       "    <tr>\n",
       "      <th>101</th>\n",
       "      <td>1</td>\n",
       "      <td>a</td>\n",
       "    </tr>\n",
       "    <tr>\n",
       "      <th>102</th>\n",
       "      <td>2</td>\n",
       "      <td>b</td>\n",
       "    </tr>\n",
       "    <tr>\n",
       "      <th>103</th>\n",
       "      <td>3</td>\n",
       "      <td>c</td>\n",
       "    </tr>\n",
       "    <tr>\n",
       "      <th>104</th>\n",
       "      <td>4</td>\n",
       "      <td>d</td>\n",
       "    </tr>\n",
       "    <tr>\n",
       "      <th>105</th>\n",
       "      <td>5</td>\n",
       "      <td>e</td>\n",
       "    </tr>\n",
       "  </tbody>\n",
       "</table>\n",
       "</div>"
      ],
      "text/plain": [
       "     x  y\n",
       "101  1  a\n",
       "102  2  b\n",
       "103  3  c\n",
       "104  4  d\n",
       "105  5  e"
      ]
     },
     "execution_count": 2,
     "metadata": {},
     "output_type": "execute_result"
    }
   ],
   "source": [
    "df = pd.DataFrame({'x':[1,2,3,4,5], 'y':list(string.ascii_lowercase)[0:5]}, index=range(101, 106))\n",
    "df"
   ]
  },
  {
   "cell_type": "code",
   "execution_count": 16,
   "metadata": {
    "collapsed": false
   },
   "outputs": [
    {
     "name": "stdout",
     "output_type": "stream",
     "text": [
      "<class 'pandas.core.frame.DataFrame'>\n",
      "Int64Index: 5 entries, 101 to 105\n",
      "Data columns (total 4 columns):\n",
      "first    5 non-null int64\n",
      "x        5 non-null int64\n",
      "y        5 non-null object\n",
      "hoge     5 non-null object\n",
      "dtypes: int64(2), object(2)\n",
      "memory usage: 200.0+ bytes\n",
      "None\n",
      "size:  (5, 4)\n",
      "len:  5\n",
      "col size: 4\n",
      "20\n"
     ]
    }
   ],
   "source": [
    "# Check its structure\n",
    "print(df.info())\n",
    "# Entire shape of DataFrame\n",
    "print(\"size: \", df.shape)\n",
    "# Row size\n",
    "print(\"len: \", len(df))\n",
    "# Column size\n",
    "print(\"col size:\", len(df.columns))\n",
    "# The size of element\n",
    "print(df.size)"
   ]
  },
  {
   "cell_type": "code",
   "execution_count": 4,
   "metadata": {
    "collapsed": false,
    "scrolled": true
   },
   "outputs": [
    {
     "name": "stdout",
     "output_type": "stream",
     "text": [
      "101    1\n",
      "102    2\n",
      "103    3\n",
      "104    4\n",
      "105    5\n",
      "Name: x, dtype: int64\n",
      "101    1\n",
      "102    2\n",
      "103    3\n",
      "104    4\n",
      "105    5\n",
      "Name: x, dtype: int64\n",
      "101    1\n",
      "102    2\n",
      "103    3\n",
      "104    4\n",
      "105    5\n",
      "Name: x, dtype: int64\n",
      "101    1\n",
      "102    2\n",
      "103    3\n",
      "104    4\n",
      "105    5\n",
      "Name: x, dtype: int64\n",
      "101    1\n",
      "102    2\n",
      "103    3\n",
      "104    4\n",
      "105    5\n",
      "Name: x, dtype: int64\n",
      "     y\n",
      "101  a\n",
      "102  b\n",
      "103  c\n",
      "104  d\n",
      "105  e\n"
     ]
    }
   ],
   "source": [
    "#Extract column([], loc: name base, iloc/ix: number base)\n",
    "print(df.x)\n",
    "print(df[\"x\"])\n",
    "print(df.loc[:,'x'])\n",
    "print(df.iloc[:,0])\n",
    "print(df.ix[:,0])\n",
    "#Extract match column!\n",
    "print(df.iloc[:, df.columns.map(lambda x: x.startswith('y'))])"
   ]
  },
  {
   "cell_type": "code",
   "execution_count": 5,
   "metadata": {
    "collapsed": false
   },
   "outputs": [
    {
     "name": "stdout",
     "output_type": "stream",
     "text": [
      "x    3\n",
      "y    c\n",
      "Name: 103, dtype: object\n",
      "x    4\n",
      "y    d\n",
      "Name: 104, dtype: object\n",
      "x    3\n",
      "y    c\n",
      "Name: 103, dtype: object\n"
     ]
    }
   ],
   "source": [
    "#Extract row(!!loc/ix index base, iloc: row number base!!!)\n",
    "print(df.loc[103,:])\n",
    "print(df.iloc[3,:])\n",
    "print(df.ix[103,:])"
   ]
  },
  {
   "cell_type": "code",
   "execution_count": 6,
   "metadata": {
    "collapsed": false
   },
   "outputs": [
    {
     "data": {
      "text/html": [
       "<div>\n",
       "<table border=\"1\" class=\"dataframe\">\n",
       "  <thead>\n",
       "    <tr style=\"text-align: right;\">\n",
       "      <th></th>\n",
       "      <th>x</th>\n",
       "      <th>y</th>\n",
       "    </tr>\n",
       "  </thead>\n",
       "  <tbody>\n",
       "    <tr>\n",
       "      <th>103</th>\n",
       "      <td>3</td>\n",
       "      <td>c</td>\n",
       "    </tr>\n",
       "  </tbody>\n",
       "</table>\n",
       "</div>"
      ],
      "text/plain": [
       "     x  y\n",
       "103  3  c"
      ]
     },
     "execution_count": 6,
     "metadata": {},
     "output_type": "execute_result"
    }
   ],
   "source": [
    "#Extract row(by column condition)\n",
    "df[df.x==3]"
   ]
  },
  {
   "cell_type": "code",
   "execution_count": 7,
   "metadata": {
    "collapsed": false
   },
   "outputs": [
    {
     "data": {
      "text/plain": [
       "array([[5, 'e']], dtype=object)"
      ]
     },
     "execution_count": 7,
     "metadata": {},
     "output_type": "execute_result"
    }
   ],
   "source": [
    "#To Numpy Array\n",
    "df[df.x==5].as_matrix()"
   ]
  },
  {
   "cell_type": "code",
   "execution_count": 8,
   "metadata": {
    "collapsed": false
   },
   "outputs": [
    {
     "data": {
      "text/html": [
       "<div>\n",
       "<table border=\"1\" class=\"dataframe\">\n",
       "  <thead>\n",
       "    <tr style=\"text-align: right;\">\n",
       "      <th></th>\n",
       "      <th>y</th>\n",
       "    </tr>\n",
       "  </thead>\n",
       "  <tbody>\n",
       "    <tr>\n",
       "      <th>101</th>\n",
       "      <td>a</td>\n",
       "    </tr>\n",
       "    <tr>\n",
       "      <th>102</th>\n",
       "      <td>b</td>\n",
       "    </tr>\n",
       "    <tr>\n",
       "      <th>103</th>\n",
       "      <td>c</td>\n",
       "    </tr>\n",
       "    <tr>\n",
       "      <th>104</th>\n",
       "      <td>d</td>\n",
       "    </tr>\n",
       "    <tr>\n",
       "      <th>105</th>\n",
       "      <td>e</td>\n",
       "    </tr>\n",
       "  </tbody>\n",
       "</table>\n",
       "</div>"
      ],
      "text/plain": [
       "     y\n",
       "101  a\n",
       "102  b\n",
       "103  c\n",
       "104  d\n",
       "105  e"
      ]
     },
     "execution_count": 8,
     "metadata": {},
     "output_type": "execute_result"
    }
   ],
   "source": [
    "#Extract specific column\n",
    "df.ix[:, 1:]"
   ]
  },
  {
   "cell_type": "code",
   "execution_count": 9,
   "metadata": {
    "collapsed": false
   },
   "outputs": [
    {
     "name": "stdout",
     "output_type": "stream",
     "text": [
      "Index(['x', 'y'], dtype='object')\n",
      "     hoge huga\n",
      "101     1    a\n",
      "102     2    b\n",
      "103     3    c\n",
      "104     4    d\n",
      "105     5    e\n",
      "['hoge' 'huga']\n"
     ]
    }
   ],
   "source": [
    "#Get and change column name\n",
    "names = df.columns\n",
    "print(names)\n",
    "df.columns = [\"hoge\", \"huga\"]\n",
    "print(df)\n",
    "print(df.columns.values) #as simple array\n",
    "df.columns = names"
   ]
  },
  {
   "cell_type": "code",
   "execution_count": 10,
   "metadata": {
    "collapsed": false
   },
   "outputs": [
    {
     "name": "stdout",
     "output_type": "stream",
     "text": [
      "Int64Index([101, 102, 103, 104, 105], dtype='int64')\n",
      "     x  y\n",
      "333  1  a\n",
      "334  2  b\n",
      "335  3  c\n",
      "336  4  d\n",
      "337  5  e\n"
     ]
    }
   ],
   "source": [
    "#Get and change row name(index)\n",
    "index = df.index\n",
    "print(index)\n",
    "df.index = range(333, 338)\n",
    "print(df)\n",
    "df.index = index"
   ]
  },
  {
   "cell_type": "code",
   "execution_count": 11,
   "metadata": {
    "collapsed": false
   },
   "outputs": [
    {
     "name": "stdout",
     "output_type": "stream",
     "text": [
      "x    3\n",
      "y    c\n",
      "dtype: object\n",
      "101    1\n",
      "102    2\n",
      "103    3\n",
      "104    4\n",
      "105    5\n",
      "dtype: int64\n"
     ]
    }
   ],
   "source": [
    "#apply lambda function to each column|row(axis 0:column, 1:row)\n",
    "print(df.apply(lambda x: x.loc[103], axis=0))\n",
    "print(df.apply(lambda x: x[0], axis=1))"
   ]
  },
  {
   "cell_type": "code",
   "execution_count": 12,
   "metadata": {
    "collapsed": false
   },
   "outputs": [
    {
     "name": "stdout",
     "output_type": "stream",
     "text": [
      "     x  y  hoge\n",
      "101  1  a  hoge\n",
      "102  2  b  hoge\n",
      "103  3  c  hoge\n",
      "104  4  d  hoge\n",
      "105  5  e  hoge\n",
      "     first  x  y  hoge\n",
      "101     -1  1  a  hoge\n",
      "102     -1  2  b  hoge\n",
      "103     -1  3  c  hoge\n",
      "104     -1  4  d  hoge\n",
      "105     -1  5  e  hoge\n"
     ]
    }
   ],
   "source": [
    "#insert column last position and any position(insert function)\n",
    "df['hoge'] = 'hoge'\n",
    "print(df)\n",
    "df.insert(0, 'first', -1)\n",
    "print(df)"
   ]
  },
  {
   "cell_type": "markdown",
   "metadata": {},
   "source": [
    "## Example for groupby"
   ]
  },
  {
   "cell_type": "code",
   "execution_count": 9,
   "metadata": {
    "collapsed": false
   },
   "outputs": [],
   "source": [
    "#Example for Groupby\n",
    "df = pd.DataFrame({'group':['A', 'A', 'B', 'A', 'B'], 'value':[1, 2, 3, 4, 5]})"
   ]
  },
  {
   "cell_type": "code",
   "execution_count": 10,
   "metadata": {
    "collapsed": false
   },
   "outputs": [
    {
     "data": {
      "text/html": [
       "<div>\n",
       "<table border=\"1\" class=\"dataframe\">\n",
       "  <thead>\n",
       "    <tr style=\"text-align: right;\">\n",
       "      <th></th>\n",
       "      <th>size</th>\n",
       "      <th>sum</th>\n",
       "    </tr>\n",
       "    <tr>\n",
       "      <th>group</th>\n",
       "      <th></th>\n",
       "      <th></th>\n",
       "    </tr>\n",
       "  </thead>\n",
       "  <tbody>\n",
       "    <tr>\n",
       "      <th>A</th>\n",
       "      <td>3</td>\n",
       "      <td>7</td>\n",
       "    </tr>\n",
       "    <tr>\n",
       "      <th>B</th>\n",
       "      <td>2</td>\n",
       "      <td>8</td>\n",
       "    </tr>\n",
       "  </tbody>\n",
       "</table>\n",
       "</div>"
      ],
      "text/plain": [
       "       size  sum\n",
       "group           \n",
       "A         3    7\n",
       "B         2    8"
      ]
     },
     "execution_count": 10,
     "metadata": {},
     "output_type": "execute_result"
    }
   ],
   "source": [
    "# dplyr summarize like\n",
    "df.groupby('group').apply(lambda x: pd.Series({'size':len(x), 'sum': x['value'].sum()}))"
   ]
  }
 ],
 "metadata": {
  "kernelspec": {
   "display_name": "Python 3",
   "language": "python",
   "name": "python3"
  },
  "language_info": {
   "codemirror_mode": {
    "name": "ipython",
    "version": 3
   },
   "file_extension": ".py",
   "mimetype": "text/x-python",
   "name": "python",
   "nbconvert_exporter": "python",
   "pygments_lexer": "ipython3",
   "version": "3.5.1"
  }
 },
 "nbformat": 4,
 "nbformat_minor": 0
}
