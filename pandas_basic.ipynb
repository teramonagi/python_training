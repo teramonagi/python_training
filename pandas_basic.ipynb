{
 "cells": [
  {
   "cell_type": "code",
   "execution_count": 1,
   "metadata": {
    "collapsed": true
   },
   "outputs": [],
   "source": [
    "import string\n",
    "import pandas as pd"
   ]
  },
  {
   "cell_type": "code",
   "execution_count": 2,
   "metadata": {
    "collapsed": false
   },
   "outputs": [
    {
     "data": {
      "text/html": [
       "<div>\n",
       "<table border=\"1\" class=\"dataframe\">\n",
       "  <thead>\n",
       "    <tr style=\"text-align: right;\">\n",
       "      <th></th>\n",
       "      <th>x</th>\n",
       "      <th>y</th>\n",
       "    </tr>\n",
       "  </thead>\n",
       "  <tbody>\n",
       "    <tr>\n",
       "      <th>101</th>\n",
       "      <td>1</td>\n",
       "      <td>a</td>\n",
       "    </tr>\n",
       "    <tr>\n",
       "      <th>102</th>\n",
       "      <td>2</td>\n",
       "      <td>b</td>\n",
       "    </tr>\n",
       "    <tr>\n",
       "      <th>103</th>\n",
       "      <td>3</td>\n",
       "      <td>c</td>\n",
       "    </tr>\n",
       "    <tr>\n",
       "      <th>104</th>\n",
       "      <td>4</td>\n",
       "      <td>d</td>\n",
       "    </tr>\n",
       "    <tr>\n",
       "      <th>105</th>\n",
       "      <td>5</td>\n",
       "      <td>e</td>\n",
       "    </tr>\n",
       "  </tbody>\n",
       "</table>\n",
       "</div>"
      ],
      "text/plain": [
       "     x  y\n",
       "101  1  a\n",
       "102  2  b\n",
       "103  3  c\n",
       "104  4  d\n",
       "105  5  e"
      ]
     },
     "execution_count": 2,
     "metadata": {},
     "output_type": "execute_result"
    }
   ],
   "source": [
    "df = pd.DataFrame({'x':[1,2,3,4,5], 'y':list(string.ascii_lowercase)[0:5]}, index=range(101, 106))\n",
    "df"
   ]
  },
  {
   "cell_type": "code",
   "execution_count": 3,
   "metadata": {
    "collapsed": false
   },
   "outputs": [
    {
     "name": "stdout",
     "output_type": "stream",
     "text": [
      "<class 'pandas.core.frame.DataFrame'>\n",
      "Int64Index: 5 entries, 101 to 105\n",
      "Data columns (total 2 columns):\n",
      "x    5 non-null int64\n",
      "y    5 non-null object\n",
      "dtypes: int64(1), object(1)\n",
      "memory usage: 120.0+ bytes\n",
      "None\n",
      "size:  (5, 2)\n"
     ]
    }
   ],
   "source": [
    "# Check its structure\n",
    "print(df.info())\n",
    "print(\"size: \", df.shape)"
   ]
  },
  {
   "cell_type": "code",
   "execution_count": 4,
   "metadata": {
    "collapsed": false
   },
   "outputs": [
    {
     "name": "stdout",
     "output_type": "stream",
     "text": [
      "101    1\n",
      "102    2\n",
      "103    3\n",
      "104    4\n",
      "105    5\n",
      "Name: x, dtype: int64\n",
      "101    1\n",
      "102    2\n",
      "103    3\n",
      "104    4\n",
      "105    5\n",
      "Name: x, dtype: int64\n",
      "101    1\n",
      "102    2\n",
      "103    3\n",
      "104    4\n",
      "105    5\n",
      "Name: x, dtype: int64\n",
      "101    1\n",
      "102    2\n",
      "103    3\n",
      "104    4\n",
      "105    5\n",
      "Name: x, dtype: int64\n",
      "101    1\n",
      "102    2\n",
      "103    3\n",
      "104    4\n",
      "105    5\n",
      "Name: x, dtype: int64\n",
      "     y\n",
      "101  a\n",
      "102  b\n",
      "103  c\n",
      "104  d\n",
      "105  e\n"
     ]
    }
   ],
   "source": [
    "#Extract column([], loc: name base, iloc/ix: number base)\n",
    "print(df.x)\n",
    "print(df[\"x\"])\n",
    "print(df.loc[:,'x'])\n",
    "print(df.iloc[:,0])\n",
    "print(df.ix[:,0])\n",
    "#Extract match column!\n",
    "print(df.iloc[:, df.columns.map(lambda x: x.startswith('y'))])"
   ]
  },
  {
   "cell_type": "code",
   "execution_count": 5,
   "metadata": {
    "collapsed": false
   },
   "outputs": [
    {
     "name": "stdout",
     "output_type": "stream",
     "text": [
      "x    3\n",
      "y    c\n",
      "Name: 103, dtype: object\n",
      "x    4\n",
      "y    d\n",
      "Name: 104, dtype: object\n",
      "x    3\n",
      "y    c\n",
      "Name: 103, dtype: object\n"
     ]
    }
   ],
   "source": [
    "#Extract row(!!!loc/ix index base, iloc: row number base!!!)\n",
    "print(df.loc[103,:])\n",
    "print(df.iloc[3,:])\n",
    "print(df.ix[103,:])"
   ]
  },
  {
   "cell_type": "code",
   "execution_count": 6,
   "metadata": {
    "collapsed": false
   },
   "outputs": [
    {
     "name": "stdout",
     "output_type": "stream",
     "text": [
      "Index(['x', 'y'], dtype='object')\n",
      "     hoge huga\n",
      "101     1    a\n",
      "102     2    b\n",
      "103     3    c\n",
      "104     4    d\n",
      "105     5    e\n"
     ]
    }
   ],
   "source": [
    "#Get and change column name\n",
    "names = df.columns\n",
    "print(names)\n",
    "df.columns = [\"hoge\", \"huga\"]\n",
    "print(df)\n",
    "df.columns = names"
   ]
  },
  {
   "cell_type": "code",
   "execution_count": 7,
   "metadata": {
    "collapsed": false
   },
   "outputs": [
    {
     "name": "stdout",
     "output_type": "stream",
     "text": [
      "Int64Index([101, 102, 103, 104, 105], dtype='int64')\n",
      "     x  y\n",
      "333  1  a\n",
      "334  2  b\n",
      "335  3  c\n",
      "336  4  d\n",
      "337  5  e\n"
     ]
    }
   ],
   "source": [
    "#Get and change row name(index)\n",
    "index = df.index\n",
    "print(index)\n",
    "df.index = range(333, 338)\n",
    "print(df)\n",
    "df.index = index"
   ]
  },
  {
   "cell_type": "code",
   "execution_count": 20,
   "metadata": {
    "collapsed": false
   },
   "outputs": [
    {
     "name": "stdout",
     "output_type": "stream",
     "text": [
      "x    3\n",
      "y    c\n",
      "dtype: object\n",
      "101    1\n",
      "102    2\n",
      "103    3\n",
      "104    4\n",
      "105    5\n",
      "dtype: int64\n"
     ]
    }
   ],
   "source": [
    "#apply lambda|function to each column|row(axis 0:column, 1:row)\n",
    "print(df.apply(lambda x: x.loc[103], axis=0))\n",
    "print(df.apply(lambda x: x[0], axis=1))"
   ]
  }
 ],
 "metadata": {
  "kernelspec": {
   "display_name": "Python 3",
   "language": "python",
   "name": "python3"
  },
  "language_info": {
   "codemirror_mode": {
    "name": "ipython",
    "version": 3
   },
   "file_extension": ".py",
   "mimetype": "text/x-python",
   "name": "python",
   "nbconvert_exporter": "python",
   "pygments_lexer": "ipython3",
   "version": "3.4.3"
  }
 },
 "nbformat": 4,
 "nbformat_minor": 0
}
