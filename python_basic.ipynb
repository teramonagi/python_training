{
 "cells": [
  {
   "cell_type": "code",
   "execution_count": 1,
   "metadata": {
    "collapsed": false
   },
   "outputs": [],
   "source": [
    "#list\n",
    "## initialize\n",
    "x = [0, 1, 2]\n",
    "x = [i for i in range(3)]"
   ]
  },
  {
   "cell_type": "code",
   "execution_count": 2,
   "metadata": {
    "collapsed": false
   },
   "outputs": [
    {
     "name": "stdout",
     "output_type": "stream",
     "text": [
      "[0, 1, 2, 10]\n",
      "[0, 1, 2, 10, 4, 5, 6]\n",
      "[0, 1, 2, 10]\n",
      "[0, 1, 2, 10, 4, 5, 6]\n"
     ]
    }
   ],
   "source": [
    "## append element\n",
    "x.append(10)\n",
    "print(x)\n",
    "## append list\n",
    "print(x + [4,5,6])\n",
    "print(x) #immutable x!!!\n",
    "x.extend([4,5,6])# change x its own. same x[len(x):] = [4,5,6]\n",
    "print(x)"
   ]
  },
  {
   "cell_type": "code",
   "execution_count": 3,
   "metadata": {
    "collapsed": false
   },
   "outputs": [
    {
     "name": "stdout",
     "output_type": "stream",
     "text": [
      "[0, 1, 2, 4, 5, 6]\n",
      "[0, 1, 2, 5, 6]\n"
     ]
    }
   ],
   "source": [
    "## remove and pop\n",
    "x.remove(10) #remove the element 10\n",
    "print(x)\n",
    "x.pop(3) #remove the 3th element\n",
    "print(x)"
   ]
  },
  {
   "cell_type": "code",
   "execution_count": 4,
   "metadata": {
    "collapsed": false
   },
   "outputs": [
    {
     "name": "stdout",
     "output_type": "stream",
     "text": [
      "[0, 100, 1, 2, 5, 6]\n"
     ]
    }
   ],
   "source": [
    "## insert an element\n",
    "x.insert(1, 100) #insert 1th place\n",
    "print(x)"
   ]
  },
  {
   "cell_type": "code",
   "execution_count": 5,
   "metadata": {
    "collapsed": false
   },
   "outputs": [
    {
     "name": "stdout",
     "output_type": "stream",
     "text": [
      "0\n",
      "6\n"
     ]
    }
   ],
   "source": [
    "## first and last\n",
    "print(x[0])\n",
    "print(x[-1])"
   ]
  },
  {
   "cell_type": "code",
   "execution_count": 6,
   "metadata": {
    "collapsed": false
   },
   "outputs": [
    {
     "name": "stdout",
     "output_type": "stream",
     "text": [
      "True\n",
      "1\n"
     ]
    }
   ],
   "source": [
    "## in and index\n",
    "print(5 in x) #True/False\n",
    "print(x.index(100)) #Return index or error"
   ]
  }
 ],
 "metadata": {
  "kernelspec": {
   "display_name": "Python 3",
   "language": "python",
   "name": "python3"
  },
  "language_info": {
   "codemirror_mode": {
    "name": "ipython",
    "version": 3
   },
   "file_extension": ".py",
   "mimetype": "text/x-python",
   "name": "python",
   "nbconvert_exporter": "python",
   "pygments_lexer": "ipython3",
   "version": "3.4.3"
  }
 },
 "nbformat": 4,
 "nbformat_minor": 0
}
