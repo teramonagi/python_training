{
 "cells": [
  {
   "cell_type": "markdown",
   "metadata": {},
   "source": [
    "# list"
   ]
  },
  {
   "cell_type": "code",
   "execution_count": 1,
   "metadata": {
    "collapsed": false
   },
   "outputs": [],
   "source": [
    "## initialize\n",
    "x = [0, 1, 2]\n",
    "x = [i for i in range(3)]"
   ]
  },
  {
   "cell_type": "code",
   "execution_count": 2,
   "metadata": {
    "collapsed": false
   },
   "outputs": [
    {
     "name": "stdout",
     "output_type": "stream",
     "text": [
      "[0, 1, 2, 10]\n",
      "[0, 1, 2, 10, 4, 5, 6]\n",
      "[0, 1, 2, 10]\n",
      "[0, 1, 2, 10, 4, 5, 6]\n"
     ]
    }
   ],
   "source": [
    "## append element\n",
    "x.append(10)\n",
    "print(x)\n",
    "## append list\n",
    "print(x + [4,5,6])\n",
    "print(x) #immutable x!!!\n",
    "x.extend([4,5,6])# change x its own. same x[len(x):] = [4,5,6]\n",
    "print(x)"
   ]
  },
  {
   "cell_type": "code",
   "execution_count": 3,
   "metadata": {
    "collapsed": false
   },
   "outputs": [
    {
     "name": "stdout",
     "output_type": "stream",
     "text": [
      "[0, 1, 2, 4, 5, 6]\n",
      "[0, 1, 2, 5, 6]\n"
     ]
    }
   ],
   "source": [
    "## remove and pop\n",
    "x.remove(10) #remove the element 10\n",
    "print(x)\n",
    "x.pop(3) #remove the 3th element\n",
    "print(x)"
   ]
  },
  {
   "cell_type": "code",
   "execution_count": 4,
   "metadata": {
    "collapsed": false
   },
   "outputs": [
    {
     "name": "stdout",
     "output_type": "stream",
     "text": [
      "[0, 100, 1, 2, 5, 6]\n"
     ]
    }
   ],
   "source": [
    "## insert an element\n",
    "x.insert(1, 100) #insert 1th place\n",
    "print(x)"
   ]
  },
  {
   "cell_type": "code",
   "execution_count": 5,
   "metadata": {
    "collapsed": false
   },
   "outputs": [
    {
     "name": "stdout",
     "output_type": "stream",
     "text": [
      "0\n",
      "6\n"
     ]
    }
   ],
   "source": [
    "## first and last\n",
    "print(x[0])\n",
    "print(x[-1])"
   ]
  },
  {
   "cell_type": "code",
   "execution_count": 6,
   "metadata": {
    "collapsed": false
   },
   "outputs": [
    {
     "name": "stdout",
     "output_type": "stream",
     "text": [
      "True\n",
      "1\n"
     ]
    }
   ],
   "source": [
    "## in and index\n",
    "print(5 in x) #True/False\n",
    "print(x.index(100)) #Return index or error"
   ]
  },
  {
   "cell_type": "code",
   "execution_count": 7,
   "metadata": {
    "collapsed": false
   },
   "outputs": [
    {
     "name": "stdout",
     "output_type": "stream",
     "text": [
      "[0, 1, 2, 4]\n",
      "[[0, 0, 0], [0, 1, 2], [0, 2, 4]]\n",
      "[0, 0, 0, 0, 1, 2, 0, 2, 4]\n"
     ]
    }
   ],
   "source": [
    "## inner expression\n",
    "print([i for i in range(5) if i != 3])\n",
    "print([[i*j for i in range(3)] for j in range(3)])\n",
    "print([i*j for i in range(3) for j in range(3)])"
   ]
  },
  {
   "cell_type": "markdown",
   "metadata": {},
   "source": [
    "# Standard Input and Output"
   ]
  },
  {
   "cell_type": "code",
   "execution_count": 8,
   "metadata": {
    "collapsed": false
   },
   "outputs": [
    {
     "name": "stdout",
     "output_type": "stream",
     "text": [
      "123\n",
      "1 2\n",
      "1,2\n",
      "129\n"
     ]
    }
   ],
   "source": [
    "## stdin (raw_input function in ver2.x)\n",
    "a = int(input())\n",
    "## split with space\n",
    "b, c = map(int, input().split())\n",
    "## split with comma\n",
    "d, e = map(int, input().split(','))\n",
    "print(a+b+c+d+e)"
   ]
  },
  {
   "cell_type": "markdown",
   "metadata": {},
   "source": [
    "# Datetime"
   ]
  },
  {
   "cell_type": "code",
   "execution_count": 9,
   "metadata": {
    "collapsed": false
   },
   "outputs": [
    {
     "name": "stdout",
     "output_type": "stream",
     "text": [
      "2016/12/12/191113\n"
     ]
    }
   ],
   "source": [
    "import datetime\n",
    "now = datetime.datetime.now()\n",
    "print(now.strftime(\"%Y/%m/%d/%H%M%S\"))"
   ]
  },
  {
   "cell_type": "markdown",
   "metadata": {
    "collapsed": true
   },
   "source": [
    "# numpy"
   ]
  },
  {
   "cell_type": "code",
   "execution_count": 10,
   "metadata": {
    "collapsed": true
   },
   "outputs": [],
   "source": [
    "import numpy as np"
   ]
  },
  {
   "cell_type": "code",
   "execution_count": 11,
   "metadata": {
    "collapsed": false
   },
   "outputs": [
    {
     "name": "stdout",
     "output_type": "stream",
     "text": [
      "[ True False  True]\n"
     ]
    }
   ],
   "source": [
    "x = [True, False, True]\n",
    "y = np.array(x)\n",
    "print(y)"
   ]
  },
  {
   "cell_type": "code",
   "execution_count": 12,
   "metadata": {
    "collapsed": false
   },
   "outputs": [
    {
     "data": {
      "text/plain": [
       "array([False,  True, False], dtype=bool)"
      ]
     },
     "execution_count": 12,
     "metadata": {},
     "output_type": "execute_result"
    }
   ],
   "source": [
    "# Reverse bit\n",
    "~y"
   ]
  },
  {
   "cell_type": "markdown",
   "metadata": {
    "collapsed": true
   },
   "source": [
    "## linear algebra"
   ]
  },
  {
   "cell_type": "code",
   "execution_count": 13,
   "metadata": {
    "collapsed": false
   },
   "outputs": [
    {
     "data": {
      "text/plain": [
       "array([[ 8, 12],\n",
       "       [12, 20]])"
      ]
     },
     "execution_count": 13,
     "metadata": {},
     "output_type": "execute_result"
    }
   ],
   "source": [
    "# Define Matrix\n",
    "x = np.array([[2,2], [2,4]])\n",
    "# Matrix Product\n",
    "np.dot(x, x)"
   ]
  },
  {
   "cell_type": "code",
   "execution_count": 14,
   "metadata": {
    "collapsed": false
   },
   "outputs": [
    {
     "name": "stdout",
     "output_type": "stream",
     "text": [
      "[[ 1.  0.]\n",
      " [ 0.  1.]]\n",
      "----------------------------------------------\n",
      "[[ 2.  2.]\n",
      " [ 2.  4.]]\n"
     ]
    }
   ],
   "source": [
    "# Eigen value\n",
    "la, v = np.linalg.eig(x)\n",
    "# Eigen vector v is orthogonal becahse x is symetric\n",
    "print(np.dot(v, v.transpose()))\n",
    "print('----------------------------------------------')\n",
    "# Reconstruct original matrix\n",
    "print(np.dot(np.dot(v, np.diag(la)), v.transpose()))"
   ]
  }
 ],
 "metadata": {
  "kernelspec": {
   "display_name": "Python 3",
   "language": "python",
   "name": "python3"
  },
  "language_info": {
   "codemirror_mode": {
    "name": "ipython",
    "version": 3
   },
   "file_extension": ".py",
   "mimetype": "text/x-python",
   "name": "python",
   "nbconvert_exporter": "python",
   "pygments_lexer": "ipython3",
   "version": "3.5.1"
  }
 },
 "nbformat": 4,
 "nbformat_minor": 0
}
